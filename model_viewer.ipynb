{
 "cells": [
  {
   "cell_type": "code",
   "execution_count": null,
   "id": "8e694421-d44c-4db8-89e5-f40bfea5b934",
   "metadata": {},
   "outputs": [],
   "source": [
    "import import_ipynb\n",
    "import model_trainer as mt\n",
    "import tensorflow as tf\n",
    "import librosa"
   ]
  },
  {
   "cell_type": "code",
   "execution_count": null,
   "id": "93803274-c8e1-4922-90c5-e184279ad75e",
   "metadata": {},
   "outputs": [],
   "source": [
    "model = tf.keras.models.load_model('./model_800.keras')\n",
    "\n",
    "def predict(audio, sample_rate):\n",
    "    stft, angles = mt.pre_process(\n",
    "        audio, \n",
    "        return_angle=True,\n",
    "        source_sample_rate=sample_rate,\n",
    "        is_audio_mono=True\n",
    "    )\n",
    "    return mt.post_process_track(model(stft, training=False), angles)\n"
   ]
  },
  {
   "cell_type": "code",
   "execution_count": null,
   "id": "5ba113e3-427f-4a12-84e4-b98cbe53de94",
   "metadata": {},
   "outputs": [],
   "source": [
    "file_path = \"\"\n",
    "\n",
    "audio, sample_rate = librosa.load(file_path, sr=None)\n",
    "\n",
    "stfts, audio_tracks = predict(audio, sample_rate)"
   ]
  },
  {
   "cell_type": "code",
   "execution_count": null,
   "id": "4db19225-f4ed-4677-9fd1-c45979c80480",
   "metadata": {},
   "outputs": [],
   "source": [
    "mt.display_stfts(stfts)\n",
    "\n",
    "print(\"Original:\")\n",
    "mt.display_audio(audio, sr=sample_rate)\n",
    "\n",
    "for i, (audio, name) in enumerate(zip(\n",
    "    audio_tracks, \n",
    "    [\"Drums:\", \"Bass:\", \"Other:\", \"Vocals:\"]\n",
    ")):\n",
    "    print(name)\n",
    "    mt.display_audio(audio)\n",
    "\n",
    "print(\"Sum of separated:\")\n",
    "mt.display_audio(\n",
    "    audio_tracks[0]   # Drums\n",
    "    + audio_tracks[1] # Bass\n",
    "    + audio_tracks[2] # Other \n",
    "    + audio_tracks[3] # Vocals\n",
    ")"
   ]
  }
 ],
 "metadata": {
  "kernelspec": {
   "display_name": "Python 3 (ipykernel)",
   "language": "python",
   "name": "python3"
  },
  "language_info": {
   "codemirror_mode": {
    "name": "ipython",
    "version": 3
   },
   "file_extension": ".py",
   "mimetype": "text/x-python",
   "name": "python",
   "nbconvert_exporter": "python",
   "pygments_lexer": "ipython3",
   "version": "3.10.12"
  }
 },
 "nbformat": 4,
 "nbformat_minor": 5
}
