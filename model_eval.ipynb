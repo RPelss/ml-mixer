{
 "cells": [
  {
   "cell_type": "code",
   "execution_count": null,
   "id": "8e694421-d44c-4db8-89e5-f40bfea5b934",
   "metadata": {},
   "outputs": [],
   "source": [
    "import import_ipynb\n",
    "import model_trainer as mt\n",
    "import tensorflow as tf\n",
    "import tensorflow_io as tfio\n",
    "import librosa\n",
    "import musdb\n",
    "import mir_eval\n",
    "import numpy"
   ]
  },
  {
   "cell_type": "code",
   "execution_count": null,
   "id": "93803274-c8e1-4922-90c5-e184279ad75e",
   "metadata": {},
   "outputs": [],
   "source": [
    "model = tf.keras.models.load_model('./model_800.keras')\n",
    "\n",
    "def predict(track):\n",
    "    audio = track.audio.T[:, :44100 * 60 * 7]\n",
    "    \n",
    "    stft, angles = mt.pre_process(\n",
    "        audio, \n",
    "        return_angle=True\n",
    "    )\n",
    "\n",
    "    _, true = mt.post_process_track([\n",
    "        mt.pre_process(track.targets['drums'].audio.T[:, :44100 * 60 * 7]),\n",
    "        mt.pre_process(track.targets['bass'].audio.T[:, :44100 * 60 * 7]),\n",
    "        mt.pre_process(track.targets['other'].audio.T[:, :44100 * 60 * 7]),\n",
    "        mt.pre_process(track.targets['vocals'].audio.T[:, :44100 * 60 * 7])\n",
    "    ], angles)\n",
    "    \n",
    "    _, pred = mt.post_process_track(model(stft, training=False), angles)\n",
    "    \n",
    "    return numpy.array(true), numpy.array(pred)"
   ]
  },
  {
   "cell_type": "code",
   "execution_count": null,
   "id": "65a0b564-e0fa-4305-95e9-16baebe45436",
   "metadata": {},
   "outputs": [],
   "source": [
    "\n",
    "db = musdb.DB(root=\"./musdb18\", subsets=\"test\")\n",
    "targets = ['drums', 'bass', 'other', 'vocals']\n",
    "\n",
    "def evaluate(track, i = 0):\n",
    "    true, pred = predict(track)\n",
    "    \n",
    "    print(f\"\\nTrack {i}: {track.name}\")\n",
    "\n",
    "    for (audio, name) in zip(pred, targets):\n",
    "        print(f\"{name}:\")\n",
    "        mt.display_audio(audio)\n",
    "\n",
    "    sdrs, sirs, sars, _ = mir_eval.separation.bss_eval_sources(true, pred)\n",
    "\n",
    "    for (sdr, sir, sar, name) in zip(sdrs, sirs, sars, targets):\n",
    "        print(f\"{name}:\\tSDR: {sdr:.4f}\\tSIR: {sir:.4f}\\tSAR: {sar:.4f}\")\n",
    "\n",
    "    with open(f\"./test-evaluation-poop\", \"a\") as eval_file:\n",
    "        result = f\"{track.name},\"\n",
    "        for (sdr, sir, sar) in zip(sdrs, sirs, sars):\n",
    "            result += f\"{sdr},{sir},{sar},\"\n",
    "        eval_file.write(result[:-1] + \"\\n\")\n",
    "\n",
    "for i, track in enumerate(db):\n",
    "    evaluate(track, i)"
   ]
  }
 ],
 "metadata": {
  "kernelspec": {
   "display_name": "Python 3 (ipykernel)",
   "language": "python",
   "name": "python3"
  },
  "language_info": {
   "codemirror_mode": {
    "name": "ipython",
    "version": 3
   },
   "file_extension": ".py",
   "mimetype": "text/x-python",
   "name": "python",
   "nbconvert_exporter": "python",
   "pygments_lexer": "ipython3",
   "version": "3.10.12"
  }
 },
 "nbformat": 4,
 "nbformat_minor": 5
}
